{
 "cells": [
  {
   "cell_type": "code",
   "execution_count": 1,
   "metadata": {},
   "outputs": [],
   "source": [
    "import pandas as pd\n",
    "import re\n",
    "from pprint import pprint"
   ]
  },
  {
   "cell_type": "markdown",
   "metadata": {},
   "source": [
    "# Reading Code Book\n",
    "[The Culper Code Book](http://www.mountvernon.org/george-washington/the-revolutionary-war/spying-and-espionage/the-culper-code-book/)\n",
    "\n",
    "[Cryptology in the American Revolution](https://www.nsa.gov/about/cryptologic-heritage/historical-figures-publications/publications/pre-wwii/assets/files/Revolutionary_Secrets_2012.pdf)"
   ]
  },
  {
   "cell_type": "code",
   "execution_count": 2,
   "metadata": {},
   "outputs": [
    {
     "name": "stdout",
     "output_type": "stream",
     "text": [
      "(798, 6)\n"
     ]
    },
    {
     "data": {
      "text/html": [
       "<div>\n",
       "<style scoped>\n",
       "    .dataframe tbody tr th:only-of-type {\n",
       "        vertical-align: middle;\n",
       "    }\n",
       "\n",
       "    .dataframe tbody tr th {\n",
       "        vertical-align: top;\n",
       "    }\n",
       "\n",
       "    .dataframe thead th {\n",
       "        text-align: right;\n",
       "    }\n",
       "</style>\n",
       "<table border=\"1\" class=\"dataframe\">\n",
       "  <thead>\n",
       "    <tr style=\"text-align: right;\">\n",
       "      <th></th>\n",
       "      <th>Code</th>\n",
       "      <th>PlainText</th>\n",
       "      <th>Category</th>\n",
       "      <th>isDrop</th>\n",
       "      <th>CodeConv</th>\n",
       "      <th>PlainTextConv</th>\n",
       "    </tr>\n",
       "  </thead>\n",
       "  <tbody>\n",
       "    <tr>\n",
       "      <th>0</th>\n",
       "      <td>A</td>\n",
       "      <td>e</td>\n",
       "      <td>Alphabet</td>\n",
       "      <td>NaN</td>\n",
       "      <td>a</td>\n",
       "      <td>e</td>\n",
       "    </tr>\n",
       "    <tr>\n",
       "      <th>1</th>\n",
       "      <td>B</td>\n",
       "      <td>f</td>\n",
       "      <td>Alphabet</td>\n",
       "      <td>NaN</td>\n",
       "      <td>b</td>\n",
       "      <td>f</td>\n",
       "    </tr>\n",
       "    <tr>\n",
       "      <th>2</th>\n",
       "      <td>C</td>\n",
       "      <td>g</td>\n",
       "      <td>Alphabet</td>\n",
       "      <td>NaN</td>\n",
       "      <td>c</td>\n",
       "      <td>g</td>\n",
       "    </tr>\n",
       "    <tr>\n",
       "      <th>3</th>\n",
       "      <td>D</td>\n",
       "      <td>h</td>\n",
       "      <td>Alphabet</td>\n",
       "      <td>NaN</td>\n",
       "      <td>d</td>\n",
       "      <td>h</td>\n",
       "    </tr>\n",
       "    <tr>\n",
       "      <th>4</th>\n",
       "      <td>E</td>\n",
       "      <td>i</td>\n",
       "      <td>Alphabet</td>\n",
       "      <td>NaN</td>\n",
       "      <td>e</td>\n",
       "      <td>i</td>\n",
       "    </tr>\n",
       "    <tr>\n",
       "      <th>5</th>\n",
       "      <td>F</td>\n",
       "      <td>j</td>\n",
       "      <td>Alphabet</td>\n",
       "      <td>NaN</td>\n",
       "      <td>f</td>\n",
       "      <td>j</td>\n",
       "    </tr>\n",
       "    <tr>\n",
       "      <th>6</th>\n",
       "      <td>G</td>\n",
       "      <td>a</td>\n",
       "      <td>Alphabet</td>\n",
       "      <td>NaN</td>\n",
       "      <td>g</td>\n",
       "      <td>a</td>\n",
       "    </tr>\n",
       "    <tr>\n",
       "      <th>7</th>\n",
       "      <td>H</td>\n",
       "      <td>b</td>\n",
       "      <td>Alphabet</td>\n",
       "      <td>NaN</td>\n",
       "      <td>h</td>\n",
       "      <td>b</td>\n",
       "    </tr>\n",
       "    <tr>\n",
       "      <th>8</th>\n",
       "      <td>I</td>\n",
       "      <td>c</td>\n",
       "      <td>Alphabet</td>\n",
       "      <td>NaN</td>\n",
       "      <td>i</td>\n",
       "      <td>c</td>\n",
       "    </tr>\n",
       "    <tr>\n",
       "      <th>9</th>\n",
       "      <td>J</td>\n",
       "      <td>d</td>\n",
       "      <td>Alphabet</td>\n",
       "      <td>NaN</td>\n",
       "      <td>j</td>\n",
       "      <td>d</td>\n",
       "    </tr>\n",
       "  </tbody>\n",
       "</table>\n",
       "</div>"
      ],
      "text/plain": [
       "  Code PlainText  Category  isDrop CodeConv PlainTextConv\n",
       "0    A         e  Alphabet     NaN        a             e\n",
       "1    B         f  Alphabet     NaN        b             f\n",
       "2    C         g  Alphabet     NaN        c             g\n",
       "3    D         h  Alphabet     NaN        d             h\n",
       "4    E         i  Alphabet     NaN        e             i\n",
       "5    F         j  Alphabet     NaN        f             j\n",
       "6    G         a  Alphabet     NaN        g             a\n",
       "7    H         b  Alphabet     NaN        h             b\n",
       "8    I         c  Alphabet     NaN        i             c\n",
       "9    J         d  Alphabet     NaN        j             d"
      ]
     },
     "execution_count": 2,
     "metadata": {},
     "output_type": "execute_result"
    }
   ],
   "source": [
    "dfCode = pd.read_excel('./RevolutionaryWarKey.xlsx')\n",
    "dfCode = dfCode.loc[dfCode['isDrop']!=True]\n",
    "dfCode['Code'] = dfCode['Code'].astype(str)\n",
    "dfCode['PlainText'] = dfCode['PlainText'].astype(str)\n",
    "dfCode['CodeConv'] = dfCode['Code'].str.strip()\n",
    "dfCode['PlainTextConv'] = dfCode['PlainText'].str.strip()\n",
    "dfCode['CodeConv'] = dfCode['CodeConv'].str.lower()\n",
    "dfCode['PlainTextConv'] = dfCode['PlainTextConv'].str.lower()\n",
    "print(dfCode.shape)\n",
    "dfCode.head(10)"
   ]
  },
  {
   "cell_type": "markdown",
   "metadata": {},
   "source": [
    "# Functions for Enciphering & Deciphering"
   ]
  },
  {
   "cell_type": "code",
   "execution_count": 3,
   "metadata": {},
   "outputs": [],
   "source": [
    "def getCulperEncipheredText(strVal):\n",
    "    rtnVal = strVal\n",
    "    strVal = strVal.strip().lower()\n",
    "    tmp = dfCode.loc[dfCode['PlainTextConv']==strVal]\n",
    "    if(tmp.shape[0]>0):\n",
    "        if(tmp.shape[0]>1):\n",
    "            rtnVal = '('+'|'.join(tmp['Code'].tolist())+')'\n",
    "        else:\n",
    "            rtnVal = tmp.iloc[0]['Code']\n",
    "    elif(len(strVal)>1):\n",
    "        tmpLetters = list(strVal)\n",
    "        rtnVal = ''.join(list(map(getCulperEncipheredText,tmpLetters)))\n",
    "    return(rtnVal)"
   ]
  },
  {
   "cell_type": "code",
   "execution_count": 4,
   "metadata": {},
   "outputs": [],
   "source": [
    "def getCulperDecipheredText(strVal):\n",
    "    rtnVal = strVal\n",
    "    strVal = strVal.strip().lower()\n",
    "    tmp = dfCode.loc[dfCode['CodeConv']==strVal]\n",
    "    if(tmp.shape[0]>0):\n",
    "        if(tmp.shape[0]>1):\n",
    "            rtnVal = '('+'|'.join(tmp['PlainText'].tolist())+')'\n",
    "        else:\n",
    "            rtnVal = tmp.iloc[0]['PlainText']\n",
    "    elif(len(strVal)>1):\n",
    "        tmpLetters = list(strVal)\n",
    "        rtnVal = ''.join(list(map(getCulperDecipheredText,tmpLetters)))\n",
    "    return(rtnVal)"
   ]
  },
  {
   "cell_type": "code",
   "execution_count": 5,
   "metadata": {},
   "outputs": [],
   "source": [
    "def getEncryptedText(strVal):\n",
    "    valMsg01 = strTokenize(strVal)\n",
    "    valMsg02 = list(map(getCulperEncipheredText, valMsg01))\n",
    "    rtnVal = ' '.join(valMsg02).replace(' .','.')\n",
    "    return(rtnVal)"
   ]
  },
  {
   "cell_type": "code",
   "execution_count": 6,
   "metadata": {},
   "outputs": [],
   "source": [
    "def getDecryptedText(strVal):\n",
    "    valMsg01 = strTokenize(strVal)\n",
    "    valMsg02 = list(map(getCulperDecipheredText, valMsg01))\n",
    "    rtnVal = ' '.join(valMsg02).replace(' .','.')\n",
    "    return(rtnVal)"
   ]
  },
  {
   "cell_type": "markdown",
   "metadata": {},
   "source": [
    "## Testing\n",
    "### Enciphering Text"
   ]
  },
  {
   "cell_type": "code",
   "execution_count": 7,
   "metadata": {},
   "outputs": [
    {
     "data": {
      "text/plain": [
       "'A'"
      ]
     },
     "execution_count": 7,
     "metadata": {},
     "output_type": "execute_result"
    }
   ],
   "source": [
    "getCulperEncipheredText('e')"
   ]
  },
  {
   "cell_type": "code",
   "execution_count": 8,
   "metadata": {},
   "outputs": [
    {
     "data": {
      "text/plain": [
       "'A'"
      ]
     },
     "execution_count": 8,
     "metadata": {},
     "output_type": "execute_result"
    }
   ],
   "source": [
    "getCulperEncipheredText('E')"
   ]
  },
  {
   "cell_type": "code",
   "execution_count": 9,
   "metadata": {},
   "outputs": [
    {
     "data": {
      "text/plain": [
       "'738'"
      ]
     },
     "execution_count": 9,
     "metadata": {},
     "output_type": "execute_result"
    }
   ],
   "source": [
    "getCulperEncipheredText('MaRYlaND')"
   ]
  },
  {
   "cell_type": "code",
   "execution_count": 10,
   "metadata": {},
   "outputs": [
    {
     "data": {
      "text/plain": [
       "'RKMCBARRKU'"
      ]
     },
     "execution_count": 10,
     "metadata": {},
     "output_type": "execute_result"
    }
   ],
   "source": [
    "getCulperEncipheredText('Longfellow')"
   ]
  },
  {
   "cell_type": "code",
   "execution_count": 11,
   "metadata": {},
   "outputs": [
    {
     "data": {
      "text/plain": [
       "'k'"
      ]
     },
     "execution_count": 11,
     "metadata": {},
     "output_type": "execute_result"
    }
   ],
   "source": [
    "getCulperEncipheredText(\"5\")"
   ]
  },
  {
   "cell_type": "markdown",
   "metadata": {},
   "source": [
    "### Deciphering"
   ]
  },
  {
   "cell_type": "code",
   "execution_count": 12,
   "metadata": {},
   "outputs": [
    {
     "data": {
      "text/plain": [
       "'e'"
      ]
     },
     "execution_count": 12,
     "metadata": {},
     "output_type": "execute_result"
    }
   ],
   "source": [
    "getCulperDecipheredText('a')"
   ]
  },
  {
   "cell_type": "code",
   "execution_count": 13,
   "metadata": {},
   "outputs": [
    {
     "data": {
      "text/plain": [
       "'e'"
      ]
     },
     "execution_count": 13,
     "metadata": {},
     "output_type": "execute_result"
    }
   ],
   "source": [
    "getCulperDecipheredText('A')"
   ]
  },
  {
   "cell_type": "code",
   "execution_count": 14,
   "metadata": {},
   "outputs": [
    {
     "data": {
      "text/plain": [
       "'Maryland'"
      ]
     },
     "execution_count": 14,
     "metadata": {},
     "output_type": "execute_result"
    }
   ],
   "source": [
    "getCulperDecipheredText('738')"
   ]
  },
  {
   "cell_type": "code",
   "execution_count": 15,
   "metadata": {},
   "outputs": [
    {
     "data": {
      "text/plain": [
       "'l(o|5)(n|6)gfell(o|5)(w|0)'"
      ]
     },
     "execution_count": 15,
     "metadata": {},
     "output_type": "execute_result"
    }
   ],
   "source": [
    "getCulperDecipheredText('RKMCBARRKU')"
   ]
  },
  {
   "cell_type": "code",
   "execution_count": 16,
   "metadata": {},
   "outputs": [
    {
     "data": {
      "text/plain": [
       "'(o|5)'"
      ]
     },
     "execution_count": 16,
     "metadata": {},
     "output_type": "execute_result"
    }
   ],
   "source": [
    "getCulperDecipheredText('k')"
   ]
  },
  {
   "cell_type": "markdown",
   "metadata": {},
   "source": [
    "# Functions for Messages"
   ]
  },
  {
   "cell_type": "code",
   "execution_count": 17,
   "metadata": {},
   "outputs": [],
   "source": [
    "def strTokenize(strVal):\n",
    "    rtnVal = re.findall(r\"[\\w']+|[.,!?;-]\", strVal)\n",
    "    return(rtnVal)"
   ]
  },
  {
   "cell_type": "markdown",
   "metadata": {},
   "source": [
    "## Testing"
   ]
  },
  {
   "cell_type": "code",
   "execution_count": 18,
   "metadata": {},
   "outputs": [
    {
     "name": "stdout",
     "output_type": "stream",
     "text": [
      "['This',\n",
      " 'is',\n",
      " 'a',\n",
      " 'test',\n",
      " 'of',\n",
      " 'the',\n",
      " 'string',\n",
      " 'tokenizer',\n",
      " '.',\n",
      " 'Does',\n",
      " 'it',\n",
      " 'work',\n",
      " '?']\n",
      "['627',\n",
      " '283',\n",
      " '(G|1)',\n",
      " 'ZAYZ',\n",
      " '431',\n",
      " '625',\n",
      " 'YZPEMC',\n",
      " 'ZKQAMEXAP',\n",
      " '.',\n",
      " 'JKAY',\n",
      " '284',\n",
      " 'UKPQ',\n",
      " '617']\n",
      "['this',\n",
      " 'is',\n",
      " '((a|3)|a)',\n",
      " 'test',\n",
      " 'of',\n",
      " 'the',\n",
      " 'str(i|1)(n|6)g',\n",
      " 't(o|5)(k|9)e(n|6)(i|1)zer',\n",
      " '.',\n",
      " 'd(o|5)es',\n",
      " 'it',\n",
      " '(w|0)(o|5)r(k|9)',\n",
      " '?']\n",
      "CPU times: user 86.2 ms, sys: 17.3 ms, total: 104 ms\n",
      "Wall time: 89.1 ms\n"
     ]
    }
   ],
   "source": [
    "%%time\n",
    "valMsg01 = strTokenize(\"This is a test of the string tokenizer.  Does it work?\")\n",
    "pprint(valMsg01)\n",
    "valMsg02 = list(map(getCulperEncipheredText, valMsg01))\n",
    "pprint(valMsg02)\n",
    "valMsg03 = list(map(getCulperDecipheredText, valMsg02))\n",
    "pprint(valMsg03)"
   ]
  },
  {
   "cell_type": "code",
   "execution_count": 19,
   "metadata": {},
   "outputs": [
    {
     "name": "stdout",
     "output_type": "stream",
     "text": [
      "['e', '281', '50', '347', ',', 'f', '281', '50', '588', '-', 'RKMCBARRKU']\n"
     ]
    }
   ],
   "source": [
    "pprint(list(map(getCulperEncipheredText, strTokenize(\"1 if by land, 2 if by sea - Longfellow\"))))"
   ]
  },
  {
   "cell_type": "code",
   "execution_count": 20,
   "metadata": {},
   "outputs": [
    {
     "data": {
      "text/plain": [
       "'RKMCBARRKU'"
      ]
     },
     "execution_count": 20,
     "metadata": {},
     "output_type": "execute_result"
    }
   ],
   "source": [
    "tmpVal = list(\"Longfellow\")\n",
    "''.join(list(map(getCulperEncipheredText, tmpVal)))"
   ]
  },
  {
   "cell_type": "markdown",
   "metadata": {},
   "source": [
    "# Examples\n",
    "## Using the Tallmadge Cipher Simplistically"
   ]
  },
  {
   "cell_type": "code",
   "execution_count": 21,
   "metadata": {},
   "outputs": [
    {
     "name": "stdout",
     "output_type": "stream",
     "text": [
      "630 283 413 169 BKP 194 282 733 , 475 591 47.\n",
      "CPU times: user 19.1 ms, sys: 2.53 ms, total: 21.7 ms\n",
      "Wall time: 19.6 ms\n"
     ]
    }
   ],
   "source": [
    "%%time\n",
    "strTallmadgePlain00 = \"There is no excuse for famine in Boston, please send ammunition.\"\n",
    "strTallmadgeEncoded00 = ' '.join(list(map(getCulperEncipheredText, strTokenize(strTallmadgePlain00)))).replace(' .','.')\n",
    "print(strTallmadgeEncoded00)"
   ]
  },
  {
   "cell_type": "markdown",
   "metadata": {},
   "source": [
    "## Real Example"
   ]
  },
  {
   "cell_type": "code",
   "execution_count": 22,
   "metadata": {},
   "outputs": [
    {
     "name": "stdout",
     "output_type": "stream",
     "text": [
      "JP YEP E 249 PAIAETAJ 708 356 431 625 mZD EMYZ. 625 YSIIAYY 431 625 AMZAPNPEYA NPKNKYAJ , LSYZ JANAMJ 433 625 (G|1)HYAMIA 431 625 72 193 , 625 YAIPAIW 431 625 36 , 5 (G|1) QMKURAJCA 431 625 AV(G|1)IZ YEZS(G|1)ZEKM 431 625 178. 281 (G|1)BZAP 707 249 HAAM 4 625 UAYZU(G|1)PJ , 625 IEPISLYZ(G|1)MIAY , BPKL 708 EMZARRECAMIA , YD(G|1)RR 27 B(G|1)TKP(G|1)HRA ; 707 683 48 4 368 , 634 48 625 HA(G|1)PAP 431 625 EMIRKYAJ 356 634 243 AVIARRAMIW 625 IKSMZ JA PKID(G|1)LHA(G|1)S , 634 694 JAZAPLEM(G|1)ZEKM , E 249 PABAPPAJ 625 L(G|1)ZZAP ; (G|1)Y 26 IKKNAP(G|1)ZEKM 433 KSP 476 50 LKTEMC 635 ZKU(G|1)PJY 625 YKSMJ , UKSRJ CETA YSID EMJEI(G|1)ZEKMY 431 625 JAYECM (G|1)Y UKSRJ ABBAIZS(G|1)RRW BPSYZP(G|1)ZA 625 YSIIAYY. YDKSRJ 707 414 NPKIAAJ 634 625 IKSMZ 707 373 JAYZPKW 626 356 281 433 625 IKMZP(G|1)PW 707 YDKSRJ 220 634 412 473 , 50 QAANEMC 2 (G|1)IIKSMZ 431 625 AVNAMIAY , 629 683 48 PAN(G|1)EJ 50 625 NSHREI. 282 625 LA(G|1)M 633 , E 693 707 634 48 (G|1)Y 526 (G|1)Y NKYYEHRA , 282 KHZ(G|1)EMEMC BPKL 708 188 , 2 (G|1)IISP(G|1)ZA (G|1)IIKSMZ 431 625 178 Y YZPAMCZD , 433 WKPQ , RKMC , 5 YZ(G|1)ZAM EYR(G|1)MJY , YNAIEBWEMC 625 YATAP(G|1)R 76 , 5 ZDAEP JEYZPEHSZEKMY. 627 E ZDEMQ BPKL 625 178 Y NPAYAMZ UA(G|1)Q YZ(G|1)ZA , 373 48 NPKISPAJ 684 LKPA B(G|1)IEREZW (G|1)IISP(G|1)IW , ZD(G|1)M 4 26 BKPLAP 512. E (G|1)L YEP 708 382 KHAJEAMZ 599 220 U(G|1)YDEMCZKM N. Y. E 693 634 345 (G|1)RYK , 625 YZPAMCZD 431 625 353 JAZ(G|1)IDLAMZ BPKL 412 WKPQ , 5 431 UD(G|1)Z 635 284 681 IKLNKYAJ. E MAAJ YI(G|1)PIARW YSCCAYZ , 281 707 YDKSRJ 220 A(G|1)YZU(G|1)PJ 626 284 683 48 AVNAJEAMZ 634 123 284 282 YSID (G|1) L(G|1)MMAP (G|1)Y 414 634 IPA(G|1)ZA YSYNEIEKM EMJAAJ , 707 345 , YAIPAIW 283 (G|1)HYKRSZARW 428 282 625 UDKRA 20. (G|1)Y 625 IKSMZ JA PKID(G|1)LHA(G|1)S JKAY 414 SMJAPYZ(G|1)MJ AMCREYD , 284 373 48 UARR 634 IKLLSMEI(G|1)ZA 708 69 634 625 IDAT(G|1)REAP JA ID(G|1)ZZARSY 282 625 BEPYZ (288|296) , 5 ZDPK 244 634 625 IKSMZ , RAYZ 284 YDKSRJ 50 (G|1)IIEJAMZ 216 (G|1)HPK(G|1)J.\n",
      "CPU times: user 940 ms, sys: 20.7 ms, total: 961 ms\n",
      "Wall time: 963 ms\n"
     ]
    }
   ],
   "source": [
    "%%time\n",
    "strTallmadgePlain01 = '''Dr Sir\n",
    "I have received Your Letter of the 6th Inst.\n",
    "The success of the enterprise proposed, must depend on the absence of the British Fleet, the secrecy of the Attempt, and a knowledge of the exact situation of the Enemy. If after you have been at the Westward, the circumstances, from your intelligence, shall appear favorable; You will be at liberty, to be the bearer of the inclosed Letter to His Excellency the Count De Rochambeau, to whose determination, I have referred the Matter; as any cooperation on our part by Moving Troops towards the Sound, would give such indications of the design as would effectually frustrate the success.\n",
    "Should you not proceed to the Count you may destroy that Letter—If on the contrary you should go to New Port, by keeping an account of the expences, they will be repaid by the Public.\n",
    "In the mean time, I wish you to be as particular as possible, in obtaining from your friend, an accurate account of the Enemy’s strength, on York, Long, and Staten Islands, specifying the several Corps, and their distributions. This I think from the Enemy’s present weak state, may be procured with more facility & accuracy, than at any former Period. I am Sir Your Most Obedient Servant\n",
    "Go: Washington\n",
    "P.S. I wish to know also, the strength of the last Detachment from New York, and of what Troops it was composed.\n",
    "I need scarcely suggest, if you should go Eastward that it will be expedient to do it in such a manner as not to create suspicion—indeed, you know, secrecy is absolutely necessary in the whole affair.\n",
    "As the Count De Rochambeau does not understand English, it may be well to communicate Your business to the Chevalier De Chattelus in the first instance, and thro’ him to the Count, lest it should by accident get abroad.\n",
    "'''\n",
    "strTallmadgeEncoded01 = ' '.join(list(map(getCulperEncipheredText, strTokenize(strTallmadgePlain01)))).replace(' .','.')\n",
    "print(strTallmadgeEncoded01)"
   ]
  },
  {
   "cell_type": "code",
   "execution_count": 23,
   "metadata": {},
   "outputs": [
    {
     "name": "stdout",
     "output_type": "stream",
     "text": [
      "dr s(i|1)r (i|1) have re(c|4)e(i|1)ved your letter of the (n|6)th (i|1)(n|6)st. the su(c|4)(c|4)ess of the e(n|6)ter(p|7)r(i|1)se (p|7)r(o|5)(p|7)(o|5)sed , must de(p|7)e(n|6)d on the (a|3) a bse(n|6)(c|4)e of the british fleet , the se(c|4)re(c|4)y of the attempt , and (a|3) a (k|9)(n|6)(o|5)(w|0)ledge of the ex (a|3) a (c|4)t s(i|1)tu (a|3) a t(i|1)(o|5)(n|6) of the enemy. if (a|3) a fter you have bee(n|6) at the (w|0)est(w|0) (a|3) a rd , the (c|4)(i|1)r(c|4)umst (a|3) a (n|6)(c|4)es , fr(o|5)m your (i|1)(n|6)tell(i|1)ge(n|6)(c|4)e , sh (a|3) a ll appear f (a|3) a v(o|5)r (a|3) a ble ; you will be at liberty , to be the be (a|3) a rer of the (i|1)(n|6)(c|4)l(o|5)sed letter to his ex(c|4)elle(n|6)(c|4)y the (c|4)(o|5)u(n|6)t de r(o|5)(c|4)h (a|3) a mbe (a|3) a u , to whose determ(i|1)(n|6) (a|3) a t(i|1)(o|5)(n|6) , (i|1) have referred the m (a|3) a tter ; (a|3) a s any (c|4)(o|5)(o|5)(p|7)er (a|3) a t(i|1)(o|5)(n|6) on (o|5)ur part by m(o|5)v(i|1)(n|6)g troops t(o|5)(w|0) (a|3) a rds the s(o|5)u(n|6)d , (w|0)(o|5)uld g(i|1)ve su(c|4)h (i|1)(n|6)d(i|1)(c|4) (a|3) a t(i|1)(o|5)(n|6)s of the des(i|1)g(n|6) (a|3) a s (w|0)(o|5)uld effe(c|4)tu (a|3) a lly frustr (a|3) a te the su(c|4)(c|4)ess. sh(o|5)uld you not (p|7)r(o|5)(c|4)eed to the (c|4)(o|5)u(n|6)t you may destr(o|5)y that letter if on the (c|4)(o|5)(n|6)tr (a|3) a ry you sh(o|5)uld go to new port , by (k|9)ee(p|7)(i|1)(n|6)g an (a|3) a (c|4)(c|4)(o|5)u(n|6)t of the ex(p|7)e(n|6)(c|4)es , they will be re(p|7) (a|3) a (i|1)d by the (p|7)ubl(i|1)(c|4). in the me (a|3) a (n|6) time , (i|1) wish you to be (a|3) a s particular (a|3) a s (p|7)(o|5)ss(i|1)ble , in (o|5)bt (a|3) a (i|1)(n|6)(i|1)(n|6)g fr(o|5)m your friend , an (a|3) a (c|4)(c|4)ur (a|3) a te (a|3) a (c|4)(c|4)(o|5)u(n|6)t of the enemy s stre(n|6)gth , on y(o|5)r(k|9) , l(o|5)(n|6)g , and st (a|3) a te(n|6) (i|1)sl (a|3) a (n|6)ds , s(p|7)e(c|4)(i|1)fy(i|1)(n|6)g the sever (a|3) a l corps , and the(i|1)r d(i|1)str(i|1)but(i|1)(o|5)(n|6)s. this (i|1) th(i|1)(n|6)(k|9) fr(o|5)m the enemy s (p|7)rese(n|6)t (w|0)e (a|3) a (k|9) st (a|3) a te , may be (p|7)r(o|5)(c|4)ured with m(o|5)re f (a|3) a (c|4)(i|1)l(i|1)ty (a|3) a (c|4)(c|4)ur (a|3) a (c|4)y , th (a|3) a (n|6) at any f(o|5)rmer period. (i|1) (a|3) a m s(i|1)r your most (o|5)bed(i|1)e(n|6)t servant go (w|0) (a|3) a sh(i|1)(n|6)gt(o|5)(n|6) (p|7). s. (i|1) wish to know (a|3) a ls(o|5) , the stre(n|6)gth of the last det (a|3) a (c|4)hme(n|6)t fr(o|5)m new y(o|5)r(k|9) , and of (w|0)h (a|3) a t troops it was (c|4)(o|5)m(p|7)(o|5)sed. (i|1) (n|6)eed s(c|4) (a|3) a r(c|4)ely suggest , if you sh(o|5)uld go e (a|3) a st(w|0) (a|3) a rd that it will be ex(p|7)ed(i|1)e(n|6)t to do it in su(c|4)h (a|3) a m (a|3) a (n|6)(n|6)er (a|3) a s not to (c|4)re (a|3) a te sus(p|7)(i|1)(c|4)(i|1)(o|5)(n|6) (i|1)(n|6)deed , you know , se(c|4)re(c|4)y is (a|3) a bs(o|5)lutely necessary in the (w|0)h(o|5)le affair. (a|3) a s the (c|4)(o|5)u(n|6)t de r(o|5)(c|4)h (a|3) a mbe (a|3) a u d(o|5)es not u(n|6)derst (a|3) a (n|6)d e(n|6)gl(i|1)sh , it may be (w|0)ell to (c|4)(o|5)mmu(n|6)(i|1)(c|4) (a|3) a te your business to the (c|4)hev (a|3) a l(i|1)er de (c|4)h (a|3) a ttelus in the f(i|1)rst instance instance , and thr(o|5) him to the (c|4)(o|5)u(n|6)t , lest it sh(o|5)uld by (a|3) a (c|4)(c|4)(i|1)de(n|6)t get (a|3) a br(o|5) (a|3) a d.\n",
      "CPU times: user 972 ms, sys: 22.2 ms, total: 994 ms\n",
      "Wall time: 1 s\n"
     ]
    }
   ],
   "source": [
    "%%time\n",
    "strTallmadgeDecoded01 = ' '.join(list(map(getCulperDecipheredText, strTokenize(strTallmadgeEncoded01)))).replace(' .','.')\n",
    "print(strTallmadgeDecoded01)"
   ]
  },
  {
   "cell_type": "code",
   "execution_count": 24,
   "metadata": {},
   "outputs": [
    {
     "data": {
      "text/plain": [
       "'JP YEP E 249 PAIAETAJ 708 356 431 625 mZD EMYZ. 625 YSIIAYY 431 625 AMZAPNPEYA NPKNKYAJ , LSYZ JANAMJ 433 625 (G|1)HYAMIA 431 625 72 193 , 625 YAIPAIW 431 625 36 , 5 (G|1) QMKURAJCA 431 625 AV(G|1)IZ YEZS(G|1)ZEKM 431 625 178. 281 (G|1)BZAP 707 249 HAAM 4 625 UAYZU(G|1)PJ , 625 IEPISLYZ(G|1)MIAY , BPKL 708 EMZARRECAMIA , YD(G|1)RR 27 B(G|1)TKP(G|1)HRA ; 707 683 48 4 368 , 634 48 625 HA(G|1)PAP 431 625 EMIRKYAJ 356 634 243 AVIARRAMIW 625 IKSMZ JA PKID(G|1)LHA(G|1)S , 634 694 JAZAPLEM(G|1)ZEKM , E 249 PABAPPAJ 625 L(G|1)ZZAP ; (G|1)Y 26 IKKNAP(G|1)ZEKM 433 KSP 476 50 LKTEMC 635 ZKU(G|1)PJY 625 YKSMJ , UKSRJ CETA YSID EMJEI(G|1)ZEKMY 431 625 JAYECM (G|1)Y UKSRJ ABBAIZS(G|1)RRW BPSYZP(G|1)ZA 625 YSIIAYY. YDKSRJ 707 414 NPKIAAJ 634 625 IKSMZ 707 373 JAYZPKW 626 356 281 433 625 IKMZP(G|1)PW 707 YDKSRJ 220 634 412 473 , 50 QAANEMC 2 (G|1)IIKSMZ 431 625 AVNAMIAY , 629 683 48 PAN(G|1)EJ 50 625 NSHREI. 282 625 LA(G|1)M 633 , E 693 707 634 48 (G|1)Y 526 (G|1)Y NKYYEHRA , 282 KHZ(G|1)EMEMC BPKL 708 188 , 2 (G|1)IISP(G|1)ZA (G|1)IIKSMZ 431 625 178 Y YZPAMCZD , 433 WKPQ , RKMC , 5 YZ(G|1)ZAM EYR(G|1)MJY , YNAIEBWEMC 625 YATAP(G|1)R 76 , 5 ZDAEP JEYZPEHSZEKMY. 627 E ZDEMQ BPKL 625 178 Y NPAYAMZ UA(G|1)Q YZ(G|1)ZA , 373 48 NPKISPAJ 684 LKPA B(G|1)IEREZW (G|1)IISP(G|1)IW , ZD(G|1)M 4 26 BKPLAP 512. E (G|1)L YEP 708 382 KHAJEAMZ 599 220 U(G|1)YDEMCZKM N. Y. E 693 634 345 (G|1)RYK , 625 YZPAMCZD 431 625 353 JAZ(G|1)IDLAMZ BPKL 412 WKPQ , 5 431 UD(G|1)Z 635 284 681 IKLNKYAJ. E MAAJ YI(G|1)PIARW YSCCAYZ , 281 707 YDKSRJ 220 A(G|1)YZU(G|1)PJ 626 284 683 48 AVNAJEAMZ 634 123 284 282 YSID (G|1) L(G|1)MMAP (G|1)Y 414 634 IPA(G|1)ZA YSYNEIEKM EMJAAJ , 707 345 , YAIPAIW 283 (G|1)HYKRSZARW 428 282 625 UDKRA 20. (G|1)Y 625 IKSMZ JA PKID(G|1)LHA(G|1)S JKAY 414 SMJAPYZ(G|1)MJ AMCREYD , 284 373 48 UARR 634 IKLLSMEI(G|1)ZA 708 69 634 625 IDAT(G|1)REAP JA ID(G|1)ZZARSY 282 625 BEPYZ (288|296) , 5 ZDPK 244 634 625 IKSMZ , RAYZ 284 YDKSRJ 50 (G|1)IIEJAMZ 216 (G|1)HPK(G|1)J.'"
      ]
     },
     "execution_count": 24,
     "metadata": {},
     "output_type": "execute_result"
    }
   ],
   "source": [
    "getEncryptedText(strTallmadgePlain01)"
   ]
  },
  {
   "cell_type": "code",
   "execution_count": 25,
   "metadata": {},
   "outputs": [
    {
     "data": {
      "text/plain": [
       "'dr s(i|1)r (i|1) have re(c|4)e(i|1)ved your letter of the (n|6)th (i|1)(n|6)st. the su(c|4)(c|4)ess of the e(n|6)ter(p|7)r(i|1)se (p|7)r(o|5)(p|7)(o|5)sed , must de(p|7)e(n|6)d on the (a|3) a bse(n|6)(c|4)e of the british fleet , the se(c|4)re(c|4)y of the attempt , and (a|3) a (k|9)(n|6)(o|5)(w|0)ledge of the ex (a|3) a (c|4)t s(i|1)tu (a|3) a t(i|1)(o|5)(n|6) of the enemy. if (a|3) a fter you have bee(n|6) at the (w|0)est(w|0) (a|3) a rd , the (c|4)(i|1)r(c|4)umst (a|3) a (n|6)(c|4)es , fr(o|5)m your (i|1)(n|6)tell(i|1)ge(n|6)(c|4)e , sh (a|3) a ll appear f (a|3) a v(o|5)r (a|3) a ble ; you will be at liberty , to be the be (a|3) a rer of the (i|1)(n|6)(c|4)l(o|5)sed letter to his ex(c|4)elle(n|6)(c|4)y the (c|4)(o|5)u(n|6)t de r(o|5)(c|4)h (a|3) a mbe (a|3) a u , to whose determ(i|1)(n|6) (a|3) a t(i|1)(o|5)(n|6) , (i|1) have referred the m (a|3) a tter ; (a|3) a s any (c|4)(o|5)(o|5)(p|7)er (a|3) a t(i|1)(o|5)(n|6) on (o|5)ur part by m(o|5)v(i|1)(n|6)g troops t(o|5)(w|0) (a|3) a rds the s(o|5)u(n|6)d , (w|0)(o|5)uld g(i|1)ve su(c|4)h (i|1)(n|6)d(i|1)(c|4) (a|3) a t(i|1)(o|5)(n|6)s of the des(i|1)g(n|6) (a|3) a s (w|0)(o|5)uld effe(c|4)tu (a|3) a lly frustr (a|3) a te the su(c|4)(c|4)ess. sh(o|5)uld you not (p|7)r(o|5)(c|4)eed to the (c|4)(o|5)u(n|6)t you may destr(o|5)y that letter if on the (c|4)(o|5)(n|6)tr (a|3) a ry you sh(o|5)uld go to new port , by (k|9)ee(p|7)(i|1)(n|6)g an (a|3) a (c|4)(c|4)(o|5)u(n|6)t of the ex(p|7)e(n|6)(c|4)es , they will be re(p|7) (a|3) a (i|1)d by the (p|7)ubl(i|1)(c|4). in the me (a|3) a (n|6) time , (i|1) wish you to be (a|3) a s particular (a|3) a s (p|7)(o|5)ss(i|1)ble , in (o|5)bt (a|3) a (i|1)(n|6)(i|1)(n|6)g fr(o|5)m your friend , an (a|3) a (c|4)(c|4)ur (a|3) a te (a|3) a (c|4)(c|4)(o|5)u(n|6)t of the enemy s stre(n|6)gth , on y(o|5)r(k|9) , l(o|5)(n|6)g , and st (a|3) a te(n|6) (i|1)sl (a|3) a (n|6)ds , s(p|7)e(c|4)(i|1)fy(i|1)(n|6)g the sever (a|3) a l corps , and the(i|1)r d(i|1)str(i|1)but(i|1)(o|5)(n|6)s. this (i|1) th(i|1)(n|6)(k|9) fr(o|5)m the enemy s (p|7)rese(n|6)t (w|0)e (a|3) a (k|9) st (a|3) a te , may be (p|7)r(o|5)(c|4)ured with m(o|5)re f (a|3) a (c|4)(i|1)l(i|1)ty (a|3) a (c|4)(c|4)ur (a|3) a (c|4)y , th (a|3) a (n|6) at any f(o|5)rmer period. (i|1) (a|3) a m s(i|1)r your most (o|5)bed(i|1)e(n|6)t servant go (w|0) (a|3) a sh(i|1)(n|6)gt(o|5)(n|6) (p|7). s. (i|1) wish to know (a|3) a ls(o|5) , the stre(n|6)gth of the last det (a|3) a (c|4)hme(n|6)t fr(o|5)m new y(o|5)r(k|9) , and of (w|0)h (a|3) a t troops it was (c|4)(o|5)m(p|7)(o|5)sed. (i|1) (n|6)eed s(c|4) (a|3) a r(c|4)ely suggest , if you sh(o|5)uld go e (a|3) a st(w|0) (a|3) a rd that it will be ex(p|7)ed(i|1)e(n|6)t to do it in su(c|4)h (a|3) a m (a|3) a (n|6)(n|6)er (a|3) a s not to (c|4)re (a|3) a te sus(p|7)(i|1)(c|4)(i|1)(o|5)(n|6) (i|1)(n|6)deed , you know , se(c|4)re(c|4)y is (a|3) a bs(o|5)lutely necessary in the (w|0)h(o|5)le affair. (a|3) a s the (c|4)(o|5)u(n|6)t de r(o|5)(c|4)h (a|3) a mbe (a|3) a u d(o|5)es not u(n|6)derst (a|3) a (n|6)d e(n|6)gl(i|1)sh , it may be (w|0)ell to (c|4)(o|5)mmu(n|6)(i|1)(c|4) (a|3) a te your business to the (c|4)hev (a|3) a l(i|1)er de (c|4)h (a|3) a ttelus in the f(i|1)rst instance instance , and thr(o|5) him to the (c|4)(o|5)u(n|6)t , lest it sh(o|5)uld by (a|3) a (c|4)(c|4)(i|1)de(n|6)t get (a|3) a br(o|5) (a|3) a d.'"
      ]
     },
     "execution_count": 25,
     "metadata": {},
     "output_type": "execute_result"
    }
   ],
   "source": [
    "getDecryptedText(getEncryptedText(strTallmadgePlain01))"
   ]
  },
  {
   "cell_type": "code",
   "execution_count": null,
   "metadata": {},
   "outputs": [],
   "source": []
  }
 ],
 "metadata": {
  "kernelspec": {
   "display_name": "Python 3",
   "language": "python",
   "name": "python3"
  },
  "language_info": {
   "codemirror_mode": {
    "name": "ipython",
    "version": 3
   },
   "file_extension": ".py",
   "mimetype": "text/x-python",
   "name": "python",
   "nbconvert_exporter": "python",
   "pygments_lexer": "ipython3",
   "version": "3.6.5"
  }
 },
 "nbformat": 4,
 "nbformat_minor": 2
}
